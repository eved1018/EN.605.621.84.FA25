{
 "cells": [
  {
   "cell_type": "markdown",
   "metadata": {},
   "source": [
    "<i> Copyright &copy; 2025 Johns Hopkins University.  Not for distribution online or by any other means.</i>"
   ]
  },
  {
   "cell_type": "markdown",
   "metadata": {
    "id": "H6jreP8UBBN4"
   },
   "source": [
    "John Doe, Programming Assignment 4, Algorithms 605.621  **PUT YOUR NAME ON THE ASSIGNMENT**\n",
    "\n",
    "***Statement of Academic Integrity:*** Put your statement of academic integrity here.  Failure to do so will result in deduction of points."
   ]
  },
  {
   "cell_type": "markdown",
   "metadata": {
    "id": "b8bMJ40LBBN6"
   },
   "source": [
    "# Overview\n",
    "\n",
    "In this assignment, we will continue to explore the Maryland Lighthouse Challenge problem.  In PA 2, you implemented a brute-force solution to the problem.  This is guaranteed to get the optimal solution, but it was extremely slow to run.  In PA 3, you implemented a technique called memoization, which traded memory for computation to speed up the results.  However, on very large data sets, this is still impractical, since the memory required for storing the intermediate results may also be excessively large.\n",
    "\n",
    "In this assignment, we're going to give up on the requirement of finding the best possible path, and instead see if we can get an approximate solution that will be \"good enough\".  We will want to try to come to an understanding of both how much computation we will save, and how much error we will incur as a result.\n",
    "\n",
    "The approximation technique we will use is a simple, greedy algorithm:  the algorithm will start at a (randomly-chosen) start light, and then move to the nearest neighbor left in the list.  This will continue until all lighthouses have been visited.  The exact path chosen, and thus the error introduced by the greedy algorithm, will vary depending on the start light and on the specific geometry of the lighthouse layout.  So, a point estimate of the performance will likely be misleading.  To handle this issue, you will be implementing a *Monte Carlo experiment*-- you will run the data collection multiple times, to collect an ensemble of error values, and then draw conclusions from a statistical analysis of the error data.\n",
    "\n",
    "For this problem, you should use the following assumptions:\n",
    "1. The contest requires a visit of all lighthouses; the winner is the first team to visit all lights (the contestants do not need to return to the start point).\n",
    "1. Teams may start at any lighthouse, and finish at any other lighthouse. \n",
    "1. Travel time from A to B is the same as the time from B to A. (Equivalently, the paths A->B->C and C->B->A are equal, and your algorithm is correct if it provides either one.  You do not need to provide both.)\n",
    "1. Several utility functions are provided for your use-- you may modify these as you see fit, or write your own.  Your fastest_tour_bf() program from PA 2 will be a utility function for you to use in this assignment, to calculate the error introduced by our approximation algorithm, and to compare the reduction in workload we achieve.\n"
   ]
  },
  {
   "cell_type": "markdown",
   "metadata": {
    "id": "-myv7kMxBBN8"
   },
   "source": [
    "# Restrictions\n",
    "\n",
    "1. You should only use Python inbuilt data structures for this assignment (e.g. lists, dictionaries, tuples, etc.)  *Hint:* Pay close attention to the rules on whether a Python data type is *mutable* (changeable) or *immutable* (not)-- remember that only *immutable* data items (like tuples) should be used as keys to dictionaries.\n",
    "1. You may not use Python libraries for combinatorics, sorting, permutations, combinations, or similar tools.  You need to build all logical structures that traverse the data set yourself, so that you can accurately measure the workload imposed by your algorithmic choices.\n",
    "1. Do not use Python's sort() function (or any other library function for sorting or ordering lists).  You will underestimate the workload imposed by your algorithm if you use the Python libraries.  An implementation of mergesort() is given to you in the utility programs block.  If you need to sort data, use this function and add an appropriate step-count variable to the code to account for the induced workload.\n",
    "1. When in doubt, **ASK FIRST**\n",
    "1. This is not a collaborative problem-- all the work in this notebook should be your individual effort\n",
    "1. Don't change the signatures of the functions or the kickoff code, as this is used by the grader for automated correctness checking.  You will get points off if you modify the input and output blocks (noted with \"DO NOT MODIFY THIS BLOCK\") or if your code doesn't execute without modification.  \n",
    "1. If you didn't get your code working correctly in PA 2, contact the instructor for assistance.\n"
   ]
  },
  {
   "cell_type": "markdown",
   "metadata": {},
   "source": [
    "# PART 1:  IMPLEMENTATION"
   ]
  },
  {
   "cell_type": "markdown",
   "metadata": {
    "id": "OBfR4rQXBBN8"
   },
   "source": [
    "## 1a. Pseudocode (10 pts)\n",
    "\n",
    "Given a start light and a list of lighthouses, use the nearest neighbor approximation to find the approximate best path\n",
    "\t\n",
    "<!--- This is a Markdown comment. -->\n",
    "<!--- Separate the $...$ in many cases to get Latex to render properly.\n",
    "      In output LaTeX, use incorrectly closed <span hidden> to pass in LaTeX options. -->\n",
    "// ***I WILL MAKE THIS PSEUDOCODE INTO MY ALGORITHM.***\n",
    "\n",
    "Function fastest_tour_nn returns time, orderedList of lighthouses.\n",
    "1. **function** fastest_tour_nn(x, L):  <span hidden>\\setlength\\itemsep{0.0em}</div>\n",
    "1. $~~~~$ *# MY ALGORITHM HERE, takes in foo, returns bar* <br>\n",
    "   $~~~~$ *# acknowledging that this is example code and is not at all correct*\n",
    "1. $~~~~$ newL $\\gets$ ``list_minus``(L, x)   *# example of one of the functions*\n",
    "1. $~~~~$ y $\\gets$ L\\[0\\]   \n",
    "1. $~~~~$ ntime, ntour $\\gets$ ``fastest_tour``(y, newL)  *# example recursion*   \n",
    "1. $~~~~$ tour $\\gets$ \\[x, y\\]  *# example of creating an ordered list*\n",
    "1. $~~~~$ time $\\gets$ ``travel_time``(x, y)\n",
    "1. $~~~~$ **return** time, tour\n"
   ]
  },
  {
   "cell_type": "markdown",
   "metadata": {
    "id": "LWc3lKmLBBOA"
   },
   "source": [
    "## 1b. English-language explanation (10 pts)\n",
    "\n",
    "Write an English-language explanation of your pseudocode here"
   ]
  },
  {
   "cell_type": "markdown",
   "metadata": {
    "id": "2o2w-goMBBOB"
   },
   "source": [
    "## 1c. Code implementation (25 pts)\n",
    "\n",
    "Implement your pseudocode from above, using the following signature and code snippets.  Your code must have a reasonable, consistent, style and documentation. It must have appropriate data structures, modularity, and error checking.  Be sure to preserve the instructor input block, and do not change names of any of the variables - they will be inputted fresh by the instructor when testing your code.  Print the best tour and time, using the TRAVEL_TIME and L provided in the instructor input block, so that the correctness of your implementation can be validated."
   ]
  },
  {
   "cell_type": "code",
   "execution_count": 2,
   "metadata": {
    "id": "aGJrx1jzBBOC"
   },
   "outputs": [],
   "source": [
    "####################################################\n",
    "# INSTRUCTOR INPUT BLOCK\n",
    "# THIS BLOCK WILL BE REPLACED BY INSTRUCTOR INPUTS\n",
    "# DO NOT CHANGE THE NAMES OF THESE VARIABLES/METHODS\n",
    "####################################################\n",
    "\n",
    "TRAVEL_TIME = { \n",
    "      ('B', 'A') : 8.043412251828856 ,\n",
    "      ('B', 'C') : 6.961562065036552 ,\n",
    "      ('B', 'E') : 11.182761725279896 ,\n",
    "      ('B', 'D') : 4.829491781522557 ,\n",
    "      ('A', 'C') : 11.933637650024707 ,\n",
    "      ('A', 'E') : 17.726993564286605 ,\n",
    "      ('A', 'D') : 9.160385528861413 ,\n",
    "      ('C', 'E') : 13.366783356602122 ,\n",
    "      ('C', 'D') : 5.995980076893033 ,\n",
    "      ('E', 'D') : 10.864682204416317 ,\n",
    "}\n",
    "# Additional test data is given at the bottom of the notebook.  You should also create your own test data as needed\n",
    "\n",
    "# This function will populate a list L containing the names of the lighthouses\n",
    "L = list(set([item for k in TRAVEL_TIME.keys() for item in k]))\n"
   ]
  },
  {
   "cell_type": "code",
   "execution_count": 3,
   "metadata": {
    "id": "cf644uiLBBOD"
   },
   "outputs": [],
   "source": [
    "# Utility functions that you can use if you wish\n",
    "\n",
    "def list_minus(L, x):\n",
    "    # Returns a list of L that does not have x in it\n",
    "    return list(set(L)-set([x,]))\n",
    "\n",
    "def travel_time(x, y):\n",
    "    # Looks up x and y in TRAVEL_TIME in a way that order does not matter, returns a time\n",
    "    global TRAVEL_TIME\n",
    "    try:\n",
    "        tm = TRAVEL_TIME[(x,y)] \n",
    "    except:\n",
    "        tm = TRAVEL_TIME[(y,x)]\n",
    "    return tm\n",
    "\n",
    "def random_lighthouses(n):\n",
    "    # Generates a random list of n lighthouses\n",
    "    # returns a dictionary in the same format as TRAVEL_TIME and a list of lighthouses (new_L)\n",
    "    \n",
    "    from string import ascii_uppercase\n",
    "    from random import uniform\n",
    "    from itertools import combinations # students aren't allowed to use itertools for this assignment\n",
    "    from math import sqrt\n",
    "    \n",
    "    new_TRAVEL_TIME = {}\n",
    "    new_L = []\n",
    "    letters = list(ascii_uppercase)\n",
    "    \n",
    "    for i in range(1,n):\n",
    "        x = uniform(1, 10)\n",
    "        y = uniform(1, 10)\n",
    "        pt_name = letters[i-1]\n",
    "        pt = (pt_name, (x,y))\n",
    "        new_L.append(pt)\n",
    "    \n",
    "    pairs = list(combinations(new_L,2))\n",
    "    for i in pairs:\n",
    "        pt1 = i[0][1]\n",
    "        pt2 = i[1][1]\n",
    "        dist = sqrt((pt1[0]+pt2[0]**2 + (pt1[1]+pt2[1])**2))\n",
    "        name = (i[0][0],i[1][0])\n",
    "        new_TRAVEL_TIME[name] = dist\n",
    "    return new_TRAVEL_TIME, new_L\n",
    "\n",
    "def lighthouse_names(L):\n",
    "    # Gets a list of the names of the lighthouses in dictionary L\n",
    "    return list(set([item for k in TRAVEL_TIME.keys() for item in k]))\n",
    "    \n",
    "def mergeSort(inputList):\n",
    "    # takes a list of values and returns a sorted list\n",
    "    # if you use this, be sure to count the workload steps here\n",
    "    #      consistent with the way you count them in your algorithm\n",
    "    \n",
    "    if len(inputList) > 1:\n",
    "        mid = len(inputList) // 2\n",
    "        left = inputList[:mid]\n",
    "        right = inputList[mid:]\n",
    "\n",
    "        # Recursive call on each half\n",
    "        mergeSort(left)\n",
    "        mergeSort(right)\n",
    "        \n",
    "        # Two iterators for traversing the two halves\n",
    "        i = 0\n",
    "        j = 0\n",
    "        \n",
    "        # Iterator for the main list\n",
    "        k = 0\n",
    "        \n",
    "        while i < len(left) and j < len(right):\n",
    "            if left[i] <= right[j]:\n",
    "              # The value from the left half has been used\n",
    "              inputList[k] = left[i]\n",
    "              # Move the iterator forward\n",
    "              i += 1\n",
    "            else:\n",
    "                inputList[k] = right[j]\n",
    "                j += 1\n",
    "            # Move to the next slot\n",
    "            k += 1\n",
    "\n",
    "        # For all the remaining values\n",
    "        while i < len(left):\n",
    "            inputList[k] = left[i]\n",
    "            i += 1\n",
    "            k += 1\n",
    "\n",
    "        while j < len(right):\n",
    "            inputList[k]=right[j]\n",
    "            j += 1\n",
    "            k += 1\n",
    "            \n",
    "    return (inputList)\n"
   ]
  },
  {
   "cell_type": "code",
   "execution_count": null,
   "metadata": {},
   "outputs": [],
   "source": [
    "####################################################\n",
    "# MY BRUTE FORCE FUNCTION\n",
    "####################################################\n",
    "\n",
    "# Put your code for fastests_tour_bf() from PA 2 or fastest_tour_nn() from PA 3 here\n",
    "# to use as a utility function.  If your fastest_tour_memo() code is correct, it would be \n",
    "# better for you to use it than the brute force code as a benchmark... but it has to be\n",
    "# correct or you will generate errors on your Monte Carlo experiment\n"
   ]
  },
  {
   "cell_type": "code",
   "execution_count": 8,
   "metadata": {
    "id": "7654rXwzBBOF"
   },
   "outputs": [],
   "source": [
    "####################################################\n",
    "# MY NEAREST NEIGHBOR FUNCTION\n",
    "####################################################\n",
    "\n",
    "from math import inf\n",
    "\n",
    "def fastest_tour_nn(start_light, L):\n",
    "    # Accepts start_point (starting lighthouse name), list L (all lighthouses)\n",
    "    # Returns best_tour (sequential list of lighthouses) and best_time (float value of best time in hours)\n",
    "    # You must keep the signatures the same (accepts start_light, L and returns best_tour, best_time;\n",
    "    #     start_light is a string, best_tour and L are lists of strings, and best_time is a float)\n",
    "    # Your algorithm should implement the nearest neighbor approximation described above\n",
    "    # Otherwise, you are free to change anything in here-- change variables, use a different structure,\n",
    "    #     switch to object-oriented coding, etc.\n",
    "    # Be sure that your pseudocode matches your actual code!\n",
    "\n",
    "   \n",
    "    best_tour = []  # used to store the running best overall tour that starts at start_light\n",
    "    best_time = inf # used to store the time for the best_tour sequence\n",
    "    \n",
    "    # Nearest neighbor\n",
    "    \n",
    "    return best_tour, best_time  \n"
   ]
  },
  {
   "cell_type": "code",
   "execution_count": 9,
   "metadata": {
    "colab": {
     "base_uri": "https://localhost:8080/",
     "height": 231
    },
    "id": "HUAPfn64BBOH",
    "outputId": "44401b9b-cd18-48c6-dd99-d69f5854319a"
   },
   "outputs": [
    {
     "name": "stdout",
     "output_type": "stream",
     "text": [
      "The best tour is:  \n",
      "The best time is:  inf\n"
     ]
    }
   ],
   "source": [
    "####################################################\n",
    "# KICKOFF CODE\n",
    "# Suggested structure to kick off your calculations\n",
    "# You will need to adjust this code to match your implementation\n",
    "####################################################\n",
    "\n",
    "from random import random.choice\n",
    "\n",
    "start_light = random.choice(L)\n",
    "L_minus = list_minus (start_light, L)\n",
    "best_tour, best_time = fastest_tour_nn(start_light, L_minus)\n",
    "\n",
    "print(\"The best tour is: \", ', '.join(best_tour))\n",
    "print(\"The best time is: \", best_time)"
   ]
  },
  {
   "cell_type": "code",
   "execution_count": null,
   "metadata": {},
   "outputs": [],
   "source": [
    "####################################################\n",
    "# CORRECTNESS CHECK\n",
    "# Used by the grader to check correctness\n",
    "# Chosen start_light to remove randomness\n",
    "####################################################\n",
    "\n",
    "TRAVEL_TIME = { \n",
    "      ('B', 'A') : 8.043412251828856 ,\n",
    "      ('B', 'C') : 6.961562065036552 ,\n",
    "      ('B', 'E') : 11.182761725279896 ,\n",
    "      ('B', 'D') : 4.829491781522557 ,\n",
    "      ('A', 'C') : 11.933637650024707 ,\n",
    "      ('A', 'E') : 17.726993564286605 ,\n",
    "      ('A', 'D') : 9.160385528861413 ,\n",
    "      ('C', 'E') : 13.366783356602122 ,\n",
    "      ('C', 'D') : 5.995980076893033 ,\n",
    "      ('E', 'D') : 10.864682204416317 ,\n",
    "}\n",
    "\n",
    "L = list(set([item for k in TRAVEL_TIME.keys() for item in k]))\n",
    "\n",
    "start_light = A\n",
    "L_minus = list_minus (L, start_light)\n",
    "\n",
    "\n",
    "# Uncomment one of these implementations\n",
    "# If using a recursive step count:\n",
    "best_tour, best_time = fastest_tour_nn(start_light, L_minus)\n",
    "\n",
    "# If using a global step count:\n",
    "#steps = 0\n",
    "#best_tour, best_time, _ = fastest_tour_nn(start_light, L_minus)\n",
    "\n",
    "print(\"The best tour is: \", ', '.join(best_tour))\n",
    "print(\"The best time is: \", best_time)"
   ]
  },
  {
   "cell_type": "markdown",
   "metadata": {},
   "source": [
    "# PART 2: ANALYSIS"
   ]
  },
  {
   "cell_type": "markdown",
   "metadata": {},
   "source": [
    "## 2a. Asymptotic bounds (10 pts)\n",
    "\n",
    "Using the techniques that you learned in Modules 1 and 2, provide an analytic estimate of the asymptotic bounds (Big-O, Big-Theta, etc.) for your algorithm. \n"
   ]
  },
  {
   "cell_type": "markdown",
   "metadata": {},
   "source": [
    "## 2b. Error bounds (10 pts)\n",
    "\n",
    "What theoretical bound can you place on the best and worst case error that the nearest neighbor algorithm will have?\n",
    "\n",
    "*Hint: the best-case scenario should be pretty obvious.  For the worst case, you will need to consider what geometric layout and choice of start point will cause the worst possible outcome.  Remember that you are working on a 2D Euclidean plane here, so the Triangle Inequality will likely come into play.*"
   ]
  },
  {
   "cell_type": "markdown",
   "metadata": {
    "id": "ttFpBOT2BBOJ"
   },
   "source": [
    "## 2c. Monte Carlo experiment (25 pts)\n",
    "\n",
    "Here, we will only need to look at the error (you don't have to graph the asymptotic bounds on the workload for this assignment).  In a Monte Carlo experiment, the model is run repeatedly on data sets that have random variations in the parameters.  In this case, what will change the outcome of the approximation algorithm will be the geometry of the lighthouses and the starting light.  So, the steps in the experiment will be:\n",
    "\n",
    "1. Generate a new set of lighthouses, using the provided utility function\n",
    "1. Run the brute force (or memoized) algorithm against the lighthouse list, to find the true best path\n",
    "1. Run the nearest neighbor algorithm on the same lighthouse list\n",
    "1. Compare the nearest neighbor best time to the true best time, to determine the error\n",
    "1. Repeat this loop enough times to gather sufficient data to evaluate the goodness of the nearest neighbor approximation\n",
    "\n",
    "*Hints: \n",
    "1. You will need to check this against varying numbers of lighthouses as well.  \n",
    "1. Think carefully about what data would be most relevant to analyzing how \"good\" or \"bad\" the nearest neighbor approximation is-- what data should you collect?  Best/worst error?  Median error?  Mean error?  Standard deviation?\n",
    "1. Consider also that the raw error will be larger if the total path length is longer-- should you normalize the value?  And how would you normalize it?\n",
    "1. Allow plenty of time for the experiment-- the brute force algorithm is very slow, especially with larger n.  You will have to generate enough runs to ensure that you are getting a representative sample of errors-- more is better, as a rule, but you will not have time to run truly large-scale data runs here.  Begin with only small values for the number of iterations (say, five) and ensure that your code is working well before increasing the number of runs to a robust number for your final data run."
   ]
  },
  {
   "cell_type": "code",
   "execution_count": 1,
   "metadata": {
    "id": "2nczwEIQBBOJ"
   },
   "outputs": [],
   "source": [
    "# MY CODE BLOCK TO EXPERIMENT WITH 3-10 LIGHTHOUSES AND GATHER ERROR DATA\n",
    "# For your final data collection run, you should have at least 25 iterations for each number of lighthouses"
   ]
  },
  {
   "cell_type": "markdown",
   "metadata": {
    "id": "j_JqMMC2BBOK"
   },
   "source": [
    "### Plot\n",
    "Plot your data here.  Use a graph type that gives meaningful information on the performance of the nearest neighbor algorithm-- pretend that you are briefing your boss on whether to switch a major business process from a brute force implementation to a nearest neighbor implementation-- what data would he/she find useful to quantify the tradeoff between the \"optimum\" calculation and the \"good enough\" calculation?"
   ]
  },
  {
   "cell_type": "code",
   "execution_count": null,
   "metadata": {
    "id": "LIb5iG6EBBOK"
   },
   "outputs": [],
   "source": [
    "####################################################\n",
    "# PUT YOUR PLOT CODE HERE\n",
    "# \n",
    "####################################################"
   ]
  },
  {
   "cell_type": "markdown",
   "metadata": {
    "id": "amTMLeiPBBOM"
   },
   "source": [
    "# PART 3 RETROSPECTION\n",
    "\n",
    "## Retrospection (10 pts)\n",
    "\n",
    "Explain your results here.  Your graph should \"tell a story\"... write the story in plain English here.\n",
    "\n",
    "If you had a problem with your code, or graph, write down here how you followed the 1-2-3 Rule given in the Getting Started module.  You should explain what you tried to do, what did/did not work, and what you would do next if you had additional time.  **Important:  don't just turn in broken code, or graphs that don't match your analytic results!**  It's important to show that, if there was some problem, you recognized that there was an issue and what you were doing to resolve the disconnect.  Bugs and mistakes do happen, time does run out, but you need to show what you understand of the problem in order to get at least partial credit.  "
   ]
  },
  {
   "cell_type": "markdown",
   "metadata": {
    "id": "kOjHZs5zBBON"
   },
   "source": [
    "## Citations\n",
    "Cite any help you received and any sources you referenced here"
   ]
  },
  {
   "cell_type": "code",
   "execution_count": 5,
   "metadata": {
    "id": "drwM53P1BBOO"
   },
   "outputs": [],
   "source": [
    "# INSTRUCTOR-PROVIDED TEST DATA\n",
    "# Ensure that your code matches both the input signature and the expected output\n",
    "# For grading, different test data will be pasted into the input cell and your code cells will be executed\n",
    "# Be sure that your input and output signatures match the provided sample data\n",
    "# Times are symmetrical, so the reverse order tour is also acceptable (e.g. A, B, C or C, B, A)\n",
    "\n",
    "# Test #1\n",
    "TRAVEL_TIME = { \n",
    "      ('D', 'E') : 9.8874546134365 ,\n",
    "      ('D', 'B') : 8.650955785569098 ,\n",
    "      ('D', 'C') : 4.527990409960845 ,\n",
    "      ('D', 'A') : 9.817667809230786 ,\n",
    "      ('E', 'B') : 10.931854306263975 ,\n",
    "      ('E', 'C') : 7.255251488484818 ,\n",
    "      ('E', 'A') : 12.917982527478712 ,\n",
    "      ('B', 'C') : 4.113565483054365 ,\n",
    "      ('B', 'A') : 9.560863383439097 ,\n",
    "      ('C', 'A') : 7.854345573910511 ,\n",
    "}\n",
    "# Expected output\n",
    "# The best tour is:  A, B, C, D, E\n",
    "# The best time is:  28.089873889890804\n",
    "\n",
    "# Test #2\n",
    "TRAVEL_TIME = { \n",
    "      ('B', 'C') : 6.429795406216918 ,\n",
    "      ('B', 'A') : 11.629846115160516 ,\n",
    "      ('B', 'D') : 7.679251919404714 ,\n",
    "      ('B', 'E') : 9.347706263090837 ,\n",
    "      ('C', 'A') : 12.280646160363432 ,\n",
    "      ('C', 'D') : 7.746192483295421 ,\n",
    "      ('C', 'E') : 9.90681627370574 ,\n",
    "      ('A', 'D') : 12.227183481562683 ,\n",
    "      ('A', 'E') : 16.655823285647106 ,\n",
    "      ('D', 'E') : 8.25715774835559 ,\n",
    "}\n",
    "# Expected output\n",
    "# The best tour is:  A, B, C, D, E\n",
    "# The best time is:  34.06299175302845\n",
    "\n",
    "# Test #3\n",
    "TRAVEL_TIME = { \n",
    "      ('F', 'E') : 7.453320453415392 ,\n",
    "      ('F', 'D') : 6.170569410345761 ,\n",
    "      ('F', 'I') : 10.448429302986911 ,\n",
    "      ('F', 'G') : 6.187750187309644 ,\n",
    "      ('F', 'C') : 12.090422838563583 ,\n",
    "      ('F', 'H') : 11.539119418380032 ,\n",
    "      ('F', 'A') : 13.23865323724485 ,\n",
    "      ('F', 'J') : 14.209616157057711 ,\n",
    "      ('F', 'B') : 12.029520235766265 ,\n",
    "      ('E', 'D') : 4.594971038617467 ,\n",
    "      ('E', 'I') : 9.488857351897519 ,\n",
    "      ('E', 'G') : 4.661282508675182 ,\n",
    "      ('E', 'C') : 10.705763401441896 ,\n",
    "      ('E', 'H') : 10.12354365573923 ,\n",
    "      ('E', 'A') : 12.05863087182219 ,\n",
    "      ('E', 'J') : 12.857918364285274 ,\n",
    "      ('E', 'B') : 10.915808926216425 ,\n",
    "      ('D', 'I') : 8.773798408565863 ,\n",
    "      ('D', 'G') : 3.549820998388679 ,\n",
    "      ('D', 'C') : 9.084763991756446 ,\n",
    "      ('D', 'H') : 8.47244200438249 ,\n",
    "      ('D', 'A') : 10.768085646027655 ,\n",
    "      ('D', 'J') : 11.205467989446557 ,\n",
    "      ('D', 'B') : 9.811703475051996 ,\n",
    "      ('I', 'G') : 4.856711290250502 ,\n",
    "      ('I', 'C') : 10.303247633652786 ,\n",
    "      ('I', 'H') : 9.72873923304563 ,\n",
    "      ('I', 'A') : 11.752971702744057 ,\n",
    "      ('I', 'J') : 12.386140947772116 ,\n",
    "      ('I', 'B') : 10.715926552978804 ,\n",
    "      ('G', 'C') : 8.939922836985131 ,\n",
    "      ('G', 'H') : 8.325372714362043 ,\n",
    "      ('G', 'A') : 10.658709470483634 ,\n",
    "      ('G', 'J') : 11.05300320168352 ,\n",
    "      ('G', 'B') : 9.726036954632448 ,\n",
    "      ('C', 'H') : 14.85107596522508 ,\n",
    "      ('C', 'A') : 16.127909792272288 ,\n",
    "      ('C', 'J') : 17.54748278310382 ,\n",
    "      ('C', 'B') : 14.699070399680458 ,\n",
    "      ('H', 'A') : 15.723529687188293 ,\n",
    "      ('H', 'J') : 17.10791004081554 ,\n",
    "      ('H', 'B') : 14.306778662449995 ,\n",
    "      ('A', 'J') : 16.949188359233272 ,\n",
    "      ('A', 'B') : 14.239542023142393 ,\n",
    "      ('J', 'B') : 16.6207970728817 ,\n",
    "}\n",
    "# Expected output\n",
    "# The best tour is:  A, B, C, D, E, F, G, H, I, J\n",
    "# The best time is:  86.69967098910159\n",
    "\n",
    "# Test 4 - test against the actual lighthouses used in the challenge, so\n",
    "# you can see the original motivation for this assignment.  Times are from\n",
    "# maps.google.com and reflect best possible driving times between two \n",
    "# lighthouses subject to current traffic conditions.\n",
    "\n",
    "# If you want to visualize this tour, it's here:\n",
    "# https://goo.gl/maps/h9NbbQT5kS3S6kZ98\n",
    "\n",
    "# Note that in the real world, travel times are highly dependent on time of\n",
    "# day and are often not symmetrical-- that's part of why the TSP problem is\n",
    "# so interesting!\n",
    "\n",
    "\n",
    "TRAVEL_TIME = { \n",
    "    ('Concord Point', 'Seven Foot Knoll') : 0.88 ,\n",
    "    ('Concord Point', 'Lightship Chesapeake') : 0.87 ,\n",
    "    ('Concord Point', 'Hooper Strait') : 1.92 ,\n",
    "    ('Concord Point', 'Choptank River') : 2.02 ,\n",
    "    ('Concord Point', 'Drum Point') : 2.12 ,\n",
    "    ('Concord Point', 'Cove Point') : 2.15 ,\n",
    "    ('Concord Point', 'Piney Point') : 2.60 ,\n",
    "    ('Concord Point', 'Point Lookout') : 2.73 ,\n",
    "    ('Concord Point', 'Fort Washington') : 1.73 ,\n",
    "    ('Concord Point', 'Sandy Point') : 1.28 ,\n",
    "    ('Seven Foot Knoll', 'Lightship Chesapeake') : 0.07 ,\n",
    "    ('Seven Foot Knoll', 'Hooper Strait') : 1.52 ,\n",
    "    ('Seven Foot Knoll', 'Choptank River') : 1.62 ,\n",
    "    ('Seven Foot Knoll', 'Drum Point') : 1.58 ,\n",
    "    ('Seven Foot Knoll', 'Cove Point') : 1.62 ,\n",
    "    ('Seven Foot Knoll', 'Piney Point') : 2.05 ,\n",
    "    ('Seven Foot Knoll', 'Point Lookout') : 2.22 ,\n",
    "    ('Seven Foot Knoll', 'Fort Washington') : 1.17 ,\n",
    "    ('Seven Foot Knoll', 'Sandy Point') : 0.78 ,\n",
    "    ('Lightship Chesapeake', 'Hooper Strait') : 1.47 ,\n",
    "    ('Lightship Chesapeake', 'Choptank River') : 1.57 ,\n",
    "    ('Lightship Chesapeake', 'Drum Point') : 1.53 ,\n",
    "    ('Lightship Chesapeake', 'Cove Point') : 1.57 ,\n",
    "    ('Lightship Chesapeake', 'Piney Point') : 1.98 ,\n",
    "    ('Lightship Chesapeake', 'Point Lookout') : 2.17 ,\n",
    "    ('Lightship Chesapeake', 'Fort Washington') : 1.12 ,\n",
    "    ('Lightship Chesapeake', 'Sandy Point') : 0.73 ,\n",
    "    ('Hooper Strait', 'Choptank River') : 0.60 ,\n",
    "    ('Hooper Strait', 'Drum Point') : 2.03 ,\n",
    "    ('Hooper Strait', 'Cove Point') : 2.08 ,\n",
    "    ('Hooper Strait', 'Piney Point') : 2.50 ,\n",
    "    ('Hooper Strait', 'Point Lookout') : 2.67 ,\n",
    "    ('Hooper Strait', 'Fort Washington') : 1.77 ,\n",
    "    ('Hooper Strait', 'Sandy Point') : 0.93 ,\n",
    "    ('Choptank River', 'Drum Point') : 2.13 ,\n",
    "    ('Choptank River', 'Cove Point') : 2.17 ,\n",
    "    ('Choptank River', 'Piney Point') : 2.60 ,\n",
    "    ('Choptank River', 'Point Lookout') : 2.77 ,\n",
    "    ('Choptank River', 'Fort Washington') : 1.85 ,\n",
    "    ('Choptank River', 'Sandy Point') : 1.03 ,\n",
    "    ('Drum Point', 'Cove Point') : 0.23 ,\n",
    "    ('Drum Point', 'Piney Point') : 0.48 ,\n",
    "    ('Drum Point', 'Point Lookout') : 0.63 ,\n",
    "    ('Drum Point', 'Fort Washington') : 1.18 ,\n",
    "    ('Drum Point', 'Sandy Point') : 1.32 ,\n",
    "    ('Cove Point', 'Piney Point') : 0.70 ,\n",
    "    ('Cove Point', 'Point Lookout') : 0.83 ,\n",
    "    ('Cove Point', 'Fort Washington') : 1.28 ,\n",
    "    ('Cove Point', 'Sandy Point') : 1.35 ,\n",
    "    ('Piney Point', 'Point Lookout') : 0.72 ,\n",
    "    ('Piney Point', 'Fort Washington') : 1.42 ,\n",
    "    ('Piney Point', 'Sandy Point') : 1.78 ,\n",
    "    ('Point Lookout', 'Fort Washington') : 1.67 ,\n",
    "    ('Point Lookout', 'Sandy Point') : 1.97 ,\n",
    "    ('Fort Washington', 'Sandy Point') : 1.05 ,   \n",
    "}\n",
    "\n",
    "# Expected output\n",
    "# The best tour is:  Choptank River, Hooper Strait, Sandy Point, Concord Point, Seven Foot Knoll, Lightship Chesapeake, \n",
    "#       Fort Washington, Cove Point, Drum Point, Piney Point, Point Lookout\n",
    "# The best time is:  7.59"
   ]
  },
  {
   "cell_type": "code",
   "execution_count": null,
   "metadata": {
    "id": "EmfSIrreQ5xG"
   },
   "outputs": [],
   "source": []
  }
 ],
 "metadata": {
  "colab": {
   "collapsed_sections": [],
   "name": "PA2_SP21.ipynb",
   "provenance": []
  },
  "kernelspec": {
   "display_name": "Python [conda env:base] *",
   "language": "python",
   "name": "conda-base-py"
  },
  "language_info": {
   "codemirror_mode": {
    "name": "ipython",
    "version": 3
   },
   "file_extension": ".py",
   "mimetype": "text/x-python",
   "name": "python",
   "nbconvert_exporter": "python",
   "pygments_lexer": "ipython3",
   "version": "3.13.5"
  }
 },
 "nbformat": 4,
 "nbformat_minor": 4
}
