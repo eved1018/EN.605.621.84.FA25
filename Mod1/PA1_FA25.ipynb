{
 "cells": [
  {
   "cell_type": "markdown",
   "metadata": {},
   "source": [
    "<i> Copyright &copy; 2025 Johns Hopkins University.  Not for distribution online or by any other means.</i>"
   ]
  },
  {
   "cell_type": "markdown",
   "metadata": {
    "colab_type": "text",
    "id": "NgoTp60Sv85s"
   },
   "source": [
    "John Doe, Programming Assignment 1, Algorithms 605.621  **PUT YOUR NAME ON THE ASSIGNMENT**\n",
    "\n",
    "***Statement of Academic Integrity:*** Put your statement of academic integrity here.  Failure to do so will result in deduction of points.\n"
   ]
  },
  {
   "cell_type": "markdown",
   "metadata": {},
   "source": [
    "## Objective\n",
    "\n",
    "The objective of the first programming assignment is to begin working with Python notebooks and learning how to analyze and graph the performance of an algorithm.  In most assignments, you will have to write pseudocode, an English-language explanation of your pseudocode, and Python code which correctly implements the pseudocode.  Here, the first two components (pseudocode and an English-language explanation) are given to you, and you only have to implement the pseudocode.  You will make two different implementations:  one recursive, one non-recursive.\n",
    "\n",
    "Next, you will have to analyze the performance of these two algorithms, using the techniques taught in modules 1 and 2 of the course.  Lastly, you will have to graph the actual performance of the two implementations you created, adding in reference lines to the graph which justify the theoretical bounds you determin in part 2.\n",
    "\n",
    "**IMPORTANT:**  This programming assignement is designed to be much easier than subsequent assignments!  You should allow much more time to complete and debug subsequent programming assignments."
   ]
  },
  {
   "cell_type": "markdown",
   "metadata": {
    "colab_type": "text",
    "id": "vjdI9DYiwjLC"
   },
   "source": [
    "## Fibonacci Sequence\n",
    "The Fibonacci sequence is defined by the linear recurrence equation:\n",
    "$$F_n = F_{n-1} + F_{n-2}$$\n",
    "with $F_0 = 0$ and $F_1 = F_2 = 1$\n",
    "\n",
    "Write code to calculate and print the value of $F_n$ for some non-negative integer $n$.  (Note that *terms* start from zero, so the \"first Fibonacci number\" is really $F_0$.) "
   ]
  },
  {
   "cell_type": "markdown",
   "metadata": {},
   "source": [
    "# PART 1:  IMPLEMENTATION"
   ]
  },
  {
   "cell_type": "markdown",
   "metadata": {
    "colab_type": "text",
    "id": "tCWn_0XMkGs8"
   },
   "source": [
    "## 1a. Pseudocode\n",
    "\n",
    "<i>In subsequent assignments, you will have to write the pseudocode yourself, following the guidance given in the Getting Started course module; however, for this first assignment, a pseudocode write-up is given to you to guide you in writing your code in the next section.</i>\n",
    "\n",
    "**Pseudocode for the recursive implementation**\n",
    "\n",
    "1. **function** fib1(n: an integer):  <span hidden>\\setlength\\itemsep{0.0em}</div>\n",
    "1. $~~~~$   // Base cases\n",
    "1. $~~~~$     case n == 0:\n",
    "1. $~~~~$  $~~~~$         return 0, 1    // F(0) is defined as 0, one step of work\n",
    "1.\n",
    "1. $~~~~$    case n == 1 or n == 2:\n",
    "1. $~~~~$  $~~~~$        return 1, 1   // F(1) and F(2) are defined as 1, one step of work\n",
    "1.\n",
    "1. $~~~~$    // Recursive cases\n",
    "1. $~~~~$   case n > 2:\n",
    "1. $~~~~$  $~~~~$        a, a_steps = fib1(n-1)  // Calculate F(n-1) and steps taken by child process\n",
    "1. $~~~~$  $~~~~$        b, b_steps = fib1(n-2)  // Calculate F(n-2) and steps taken by child process\n",
    "1. $~~~~$  $~~~~$        result := a + b         // F(n) = F(n-1) + F(n-2)\n",
    "1. $~~~~$  $~~~~$        steps := a_steps + b_steps + 3  // Sum up total steps taken\n",
    "1. $~~~~$  $~~~~$        return result, steps\n",
    "\n",
    "\n",
    "**Pseudocode for Non-Recursive implementation**\n",
    "\n",
    "1. **function** fib2(n: an integer):\n",
    "1. $~~~~$     case n == 0:    \n",
    "1. $~~~~$  $~~~~$        return 0, 1  // F(0) is defined as 0, one step of work\n",
    "1.\n",
    "1. $~~~~$     case n==1 or n==2:    \n",
    "1. $~~~~$  $~~~~$         return 1, 1  // F(1) and F(2) are defined as 1, one step of work\n",
    "1.\n",
    "1. $~~~~$     case n > 2:\n",
    "1. $~~~~$  $~~~~$        results := list(0, 1, 1)  // These are the first 3 Fibonacci numbers\n",
    "1. $~~~~$  $~~~~$        steps := 1      \n",
    "1. $~~~~$  $~~~~$        for i = 3 to (n+1):\n",
    "1. $~~~~$  $~~~~$  $~~~~$             results(i) := [results(i-1) + results(i-2)]\n",
    "1. $~~~~$  $~~~~$   $~~~~$            steps := steps + 1\n",
    "1. $~~~~$  $~~~~$         endfor\n",
    "1. $~~~~$  $~~~~$         return results(n), steps\n",
    "\n"
   ]
  },
  {
   "cell_type": "markdown",
   "metadata": {},
   "source": [
    "## 1b. English-language explanation\n",
    "\n",
    "<i> In subsequent assignments, you will have to provide the English-language explanation of your pseudocode; however, for this assignment, the explanation is provided to you </i>\n",
    "\n",
    "This notebook implements two separate approaches for solving the Fibonacci sequence.  The recursive approach (fib1) simply implements the definition of the Fibonacci sequence, as given in the problem statment.  The base case is defined as F(0), F(1), or F(2).  In these cases, the algorithm simply returns the defined value for F() and reports one step taken.  For i > 2, the program recursively calls fib1(i-1) and fib1(i-2) to be able to define the value of F(i).  At each level of recursion, the program accumulates the number of steps taken by its child processes, and then adds three steps for the workload at its own level. \n",
    "\n",
    "In the non-recursive, or bottom-up, implementation (fib2), the algorithm builds a list with each successive Fibonacci number in it, beginning with the values F(0) = 0, F(1) = 1, and F(2) = 1.  Then it iterates up to the given value n, adding the previously calculated values for F(i-1) and F(i-2) and appending the newly-calculated values for F(i) to the accumulating list and adding one step to the accumulating workload counter.  Finally, it returns the sum total of all the work done and the final value in the list of Fibonacci numbers."
   ]
  },
  {
   "cell_type": "markdown",
   "metadata": {},
   "source": [
    "## 1c. Code implementation (40 pts)"
   ]
  },
  {
   "cell_type": "code",
   "execution_count": 50,
   "metadata": {
    "colab": {},
    "colab_type": "code",
    "id": "a_95DLGHy_DQ"
   },
   "outputs": [],
   "source": [
    "# CODE CELL\n",
    "\n",
    "def fib1(n):\n",
    "    # thi is a recursive implementation of the Fibonacci sequence\n",
    "    # returns fibonacci number, steps\n",
    "    \n",
    "    # Implement the pseudocode given above for fib1(n)\n",
    "    # Return signature should be:\n",
    "    return fib_num, steps\n",
    "\n",
    "def fib2(n):\n",
    "    # this is a non-recursive, bottom-up implementation\n",
    "    # returns fibonacci number, steps\n",
    "    \n",
    "    # Implement the pseudocode given above for fib2(n)\n",
    "    # Return signature should be:\n",
    "    return fib_num, steps\n"
   ]
  },
  {
   "cell_type": "code",
   "execution_count": 51,
   "metadata": {},
   "outputs": [],
   "source": [
    "## INPUT CELL\n",
    "# The grader will replace this data with grading data, so do not change the signature of the input\n",
    "\n",
    "n = 5"
   ]
  },
  {
   "cell_type": "code",
   "execution_count": 52,
   "metadata": {},
   "outputs": [
    {
     "name": "stdout",
     "output_type": "stream",
     "text": [
      "The recursively-calculated Fibonacci number for n = 5 :\n",
      "5\n",
      "\n",
      "The nonrecursively-calculated Fibonacci number for n = 5 :\n",
      "5\n"
     ]
    }
   ],
   "source": [
    "# RESULTS CELL\n",
    "# This is to show that both implementations produce the correct result\n",
    "# Again, this will be used by the grader to test your implementation, so do not change the signature of the output\n",
    "\n",
    "print(\"The recursively-calculated Fibonacci number for n = {} :\".format(n))\n",
    "fib1_result, _ = fib1(n)\n",
    "print(fib1_result)\n",
    "print()\n",
    "print(\"The nonrecursively-calculated Fibonacci number for n = {} :\".format(n))\n",
    "fib2_result, _ = fib2(n)\n",
    "print(fib2_result)"
   ]
  },
  {
   "cell_type": "markdown",
   "metadata": {},
   "source": [
    "# PART 2: ANALYSIS"
   ]
  },
  {
   "cell_type": "markdown",
   "metadata": {},
   "source": [
    "## 2a. Asymptotic bounds (25 pts)\n",
    "\n",
    "Using the techniques that you learned in Modules 1 and 2, provide an analytic estimate of the asymptotic bounds (Big-O, Big-Theta, etc.) for fib1() and fib2().\n",
    "\n",
    "<i>Hint 1:  The Master Theorem won't work for either of these two equations (why not?)</i>\n",
    "\n",
    "<i>Hint 2:  For fib1(), you may want to try the substitution method.</i>\n",
    "\n",
    "<i>Hint 3:  For fib2(), you should take a look at how many times the for loop at line 11 executes, and how much work is done for each time it passes through the loop.</i>\n"
   ]
  },
  {
   "cell_type": "markdown",
   "metadata": {},
   "source": [
    "## 2b. Code analysis (25 pts)\n",
    "\n",
    "<i>Here, you will generate a sample set of data from your implementation of fib1() and fib2(), and graph this against a set of reference lines to demonstrate the correctnes of your asymptotic bounds, based on the empirical data generated by your code.</i>"
   ]
  },
  {
   "cell_type": "code",
   "execution_count": 2,
   "metadata": {},
   "outputs": [],
   "source": [
    "# GENERATING THE GRAPH DATA\n",
    "\n",
    "minrange = 5  # Min and max range of the graph\n",
    "maxrange = 15\n",
    "\n",
    "rec_fib = []\n",
    "nonrec_fib = []\n",
    "\n",
    "# This populates an array with the number of steps taken for each value of n\n",
    "#for i in range(minrange, maxrange):\n",
    "    _, nonrec_steps = fib2(i)\n",
    "    _, rec_steps = fib1(i)\n",
    "    rec_fib.append(rec_steps)\n",
    "    nonrec_fib.append(nonrec_steps)\n",
    "\n",
    "# Correctness check\n",
    "print(rec_fib)\n",
    "print(nonrec_fib)\n",
    "    \n",
    "    "
   ]
  },
  {
   "cell_type": "code",
   "execution_count": 10,
   "metadata": {},
   "outputs": [
    {
     "data": {
      "text/plain": [
       "<matplotlib.legend.Legend at 0x1616dc14340>"
      ]
     },
     "execution_count": 10,
     "metadata": {},
     "output_type": "execute_result"
    },
    {
     "data": {
      "image/png": "[encoded data removed]",
      "text/plain": [
       "<Figure size 1000x500 with 1 Axes>"
      ]
     },
     "metadata": {},
     "output_type": "display_data"
    }
   ],
   "source": [
    "# This is some graphing code that you may use if you like\n",
    "# It will graph the number of steps taken for increasing values of n, for both fib1() and fib2()\n",
    "\n",
    "import matplotlib.pyplot as plt\n",
    "from math import pow # import whatever functions you need for the benchmarks\n",
    "\n",
    "\n",
    "# This plots the data generated in the previous cell\n",
    "xvals = [(i + minrange) for i in range(len(rec_fib))]\n",
    "ylimit = max(rec_fib[-1], nonrec_fib[-1])*1.1\n",
    "plt.rcParams['figure.figsize'] = [10,5]\n",
    "plt.figure()\n",
    "plt.title(\"Graph Title\", size=\"xx-large\") # Change this to be meaningful\n",
    "plt.ylabel(\"Y-axis Label\", size=\"x-large\") # Change this to be meaningful\n",
    "plt.xlabel(\"X-axis Label\", size=\"x-large\") # Change this to be meaningful\n",
    "plt.ylim([0,ylimit]) # y-axis scale\n",
    "plt.tick_params(axis=\"both\", which=\"major\", labelsize=14)\n",
    "plt.plot(xvals, rec_fib, \"r*-\", markersize=10, linewidth=2, label=\"Recursive steps\")\n",
    "plt.plot(xvals, nonrec_fib, \"b^-\", markersize=10, linewidth=2, label=\"Non-recursive steps\")\n",
    "\n",
    "\n",
    "# benchmark data set generation-- pick sensible benchmarks for your algorithm\n",
    "# you should pick functions that bound your observed values above and below, to show that\n",
    "#   your analytic results are correct\n",
    "# I recommend that you start with this commented out, get the graph working on your test data\n",
    "#   first, and then add the benchmarks after your data is showing correctly\n",
    "\n",
    "yTestVals1 = [0,] \n",
    "#yTestVals2 = [0,] \n",
    "#yTestVals3 = [0,] \n",
    "#yTestVals4 = [0,] \n",
    "\n",
    "# generate bench mark data \n",
    "\n",
    "for i in range(1, len(xvals)):\n",
    "    yTestVals1.append(pow(i, 2)) # example syntax, generates a graph of n^2\n",
    "#    yTestVals2.append('''benchmark function 2''')\n",
    "#    yTestVals3.append('''benchmark function 3''')\n",
    "#    yTestVals4.append('''benchmark function 4''')\n",
    "\n",
    "plt.plot(xvals, yTestVals1, \"m^--\", markersize=0, linewidth=1, label=\"benchmark O(n^2)\")\n",
    "#plt.plot(xvals, yTestVals2, \"b^--\", markersize=0, linewidth=1, label=\"benchmark 2\")\n",
    "#plt.plot(xvals, yTestVals3, \"g^--\", markersize=0, linewidth=1, label=\"benchmark 3\")\n",
    "#plt.plot(xvals, yTestVals4, \"y^--\", markersize=0, linewidth=1, label=\"benchmark 4\")\n",
    "\n",
    "plt.tick_params(axis=\"both\", which=\"major\", labelsize=14)\n",
    "plt.legend(loc=(0.1,0.5), scatterpoints=1)\n"
   ]
  },
  {
   "cell_type": "markdown",
   "metadata": {},
   "source": [
    "# PART 3 RETROSPECTION"
   ]
  },
  {
   "cell_type": "markdown",
   "metadata": {
    "colab_type": "text",
    "id": "AxDpV0jxz8NO"
   },
   "source": [
    "## Retrospection (10 pts)\n",
    "\n",
    "Explain your results here.  Your graph should \"tell a story\"... write the story in plain English here.\n",
    "\n",
    "If you had a problem with your code, or graph, write down here how you followed the 1-2-3 Rule given in the Getting Started module.  You should explain what you tried to do, what did/did not work, and what you would do next if you had additional time.  <b>Important:  don't just turn in broken code, or graphs that don't match your analytic results!</b>  It's important to show that, if there was some problem, you recognized that there was an issue and what you were doing to resolve the disconnect.  Bugs and mistakes do happen, time does run out, but you need to show what you understand of the problem in order to get at least partial credit.  \n",
    "\n",
    "<i> **Note to students:**  this is one of the very few cases in this course that a non-recursive implementation is significantly better than a recursive implementation!  Also note that it is not acceptable to \"eyeball\" the graph (or try to curve-fit the graph) to analyze the workload of your algorithm.  **However,** \"eyeballing\" the graph may give you a good insight into what function you should try in the substitution method, particularly if you also graph some sample functions (e.g. n<sup>2</sup> or n lg n, etc.) on the same graph.  You should also sanity-check your analysis against the graph-- if the two are significantly different, then one or the other must be wrong."
   ]
  },
  {
   "cell_type": "markdown",
   "metadata": {},
   "source": [
    "## Citations\n",
    "If you used any references, cite them above and put the full footnotes here."
   ]
  },
  {
   "cell_type": "code",
   "execution_count": 7,
   "metadata": {},
   "outputs": [],
   "source": [
    "# INSTRUCTOR-PROVIDED TEST DATA\n",
    "# Ensure that your code matches both the input signature and the expected output\n",
    "# For grading, different test data will be pasted into the input cell and your code cells will be executed\n",
    "# Be sure that your input and output signatures match the provided sample data\n",
    "# You may need to generate your own test cases to fully explore the performance of your algorithm\n",
    "\n",
    "# Test #1\n",
    "n = 5\n",
    "# Expected output:\n",
    "# 5\n",
    "\n",
    "# Test #2\n",
    "n= 9\n",
    "# Expected output:\n",
    "# 34\n",
    "\n",
    "# Test #3\n",
    "n = 25\n",
    "# Expected output:\n",
    "#75025"
   ]
  }
 ],
 "metadata": {
  "colab": {
   "collapsed_sections": [],
   "name": "Doe_PA0.ipynb",
   "provenance": []
  },
  "kernelspec": {
   "display_name": "Python [conda env:base] *",
   "language": "python",
   "name": "conda-base-py"
  },
  "language_info": {
   "codemirror_mode": {
    "name": "ipython",
    "version": 3
   },
   "file_extension": ".py",
   "mimetype": "text/x-python",
   "name": "python",
   "nbconvert_exporter": "python",
   "pygments_lexer": "ipython3",
   "version": "3.13.5"
  }
 },
 "nbformat": 4,
 "nbformat_minor": 4
}
